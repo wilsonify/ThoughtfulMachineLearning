{
 "cells": [
  {
   "cell_type": "code",
   "execution_count": 6,
   "metadata": {},
   "outputs": [],
   "source": [
    "from lxml import html\n",
    "import requests\n",
    "import unicodecsv as csv\n",
    "import argparse\n",
    "import json\n",
    "import requests\n",
    "import bs4\n",
    "import pandas as pd\n",
    "import time"
   ]
  },
  {
   "cell_type": "code",
   "execution_count": 39,
   "metadata": {},
   "outputs": [
    {
     "name": "stdout",
     "output_type": "stream",
     "text": [
      "https://www.zillow.com/homes/for_sale/1_p/?searchQueryState={\"pagination\": {\"currentPage\": 1}, \"mapBounds\": {\"west\": -77.16353057625066, \"east\": -76.40616058113348, \"south\": 40.79172057471558, \"north\": 41.214563845944205}, \"isMapVisible\": true, \"mapZoom\": 11, \"filterState\": {\"sortSelection\": {\"value\": \"globalrelevanceex\"}}, \"isListVisible\": true}\n",
      "https://www.zillow.com/homes/for_sale/2_p/?searchQueryState={\"pagination\": {\"currentPage\": 2}, \"mapBounds\": {\"west\": -77.16353057625066, \"east\": -76.40616058113348, \"south\": 40.79172057471558, \"north\": 41.214563845944205}, \"isMapVisible\": true, \"mapZoom\": 11, \"filterState\": {\"sortSelection\": {\"value\": \"globalrelevanceex\"}}, \"isListVisible\": true}\n",
      "https://www.zillow.com/homes/for_sale/3_p/?searchQueryState={\"pagination\": {\"currentPage\": 3}, \"mapBounds\": {\"west\": -77.16353057625066, \"east\": -76.40616058113348, \"south\": 40.79172057471558, \"north\": 41.214563845944205}, \"isMapVisible\": true, \"mapZoom\": 11, \"filterState\": {\"sortSelection\": {\"value\": \"globalrelevanceex\"}}, \"isListVisible\": true}\n",
      "https://www.zillow.com/homes/for_sale/4_p/?searchQueryState={\"pagination\": {\"currentPage\": 4}, \"mapBounds\": {\"west\": -77.16353057625066, \"east\": -76.40616058113348, \"south\": 40.79172057471558, \"north\": 41.214563845944205}, \"isMapVisible\": true, \"mapZoom\": 11, \"filterState\": {\"sortSelection\": {\"value\": \"globalrelevanceex\"}}, \"isListVisible\": true}\n",
      "https://www.zillow.com/homes/for_sale/5_p/?searchQueryState={\"pagination\": {\"currentPage\": 5}, \"mapBounds\": {\"west\": -77.16353057625066, \"east\": -76.40616058113348, \"south\": 40.79172057471558, \"north\": 41.214563845944205}, \"isMapVisible\": true, \"mapZoom\": 11, \"filterState\": {\"sortSelection\": {\"value\": \"globalrelevanceex\"}}, \"isListVisible\": true}\n",
      "https://www.zillow.com/homes/for_sale/6_p/?searchQueryState={\"pagination\": {\"currentPage\": 6}, \"mapBounds\": {\"west\": -77.16353057625066, \"east\": -76.40616058113348, \"south\": 40.79172057471558, \"north\": 41.214563845944205}, \"isMapVisible\": true, \"mapZoom\": 11, \"filterState\": {\"sortSelection\": {\"value\": \"globalrelevanceex\"}}, \"isListVisible\": true}\n",
      "https://www.zillow.com/homes/for_sale/7_p/?searchQueryState={\"pagination\": {\"currentPage\": 7}, \"mapBounds\": {\"west\": -77.16353057625066, \"east\": -76.40616058113348, \"south\": 40.79172057471558, \"north\": 41.214563845944205}, \"isMapVisible\": true, \"mapZoom\": 11, \"filterState\": {\"sortSelection\": {\"value\": \"globalrelevanceex\"}}, \"isListVisible\": true}\n",
      "https://www.zillow.com/homes/for_sale/8_p/?searchQueryState={\"pagination\": {\"currentPage\": 8}, \"mapBounds\": {\"west\": -77.16353057625066, \"east\": -76.40616058113348, \"south\": 40.79172057471558, \"north\": 41.214563845944205}, \"isMapVisible\": true, \"mapZoom\": 11, \"filterState\": {\"sortSelection\": {\"value\": \"globalrelevanceex\"}}, \"isListVisible\": true}\n",
      "https://www.zillow.com/homes/for_sale/9_p/?searchQueryState={\"pagination\": {\"currentPage\": 9}, \"mapBounds\": {\"west\": -77.16353057625066, \"east\": -76.40616058113348, \"south\": 40.79172057471558, \"north\": 41.214563845944205}, \"isMapVisible\": true, \"mapZoom\": 11, \"filterState\": {\"sortSelection\": {\"value\": \"globalrelevanceex\"}}, \"isListVisible\": true}\n",
      "https://www.zillow.com/homes/for_sale/10_p/?searchQueryState={\"pagination\": {\"currentPage\": 10}, \"mapBounds\": {\"west\": -77.16353057625066, \"east\": -76.40616058113348, \"south\": 40.79172057471558, \"north\": 41.214563845944205}, \"isMapVisible\": true, \"mapZoom\": 11, \"filterState\": {\"sortSelection\": {\"value\": \"globalrelevanceex\"}}, \"isListVisible\": true}\n",
      "https://www.zillow.com/homes/for_sale/11_p/?searchQueryState={\"pagination\": {\"currentPage\": 11}, \"mapBounds\": {\"west\": -77.16353057625066, \"east\": -76.40616058113348, \"south\": 40.79172057471558, \"north\": 41.214563845944205}, \"isMapVisible\": true, \"mapZoom\": 11, \"filterState\": {\"sortSelection\": {\"value\": \"globalrelevanceex\"}}, \"isListVisible\": true}\n",
      "https://www.zillow.com/homes/for_sale/12_p/?searchQueryState={\"pagination\": {\"currentPage\": 12}, \"mapBounds\": {\"west\": -77.16353057625066, \"east\": -76.40616058113348, \"south\": 40.79172057471558, \"north\": 41.214563845944205}, \"isMapVisible\": true, \"mapZoom\": 11, \"filterState\": {\"sortSelection\": {\"value\": \"globalrelevanceex\"}}, \"isListVisible\": true}\n",
      "https://www.zillow.com/homes/for_sale/13_p/?searchQueryState={\"pagination\": {\"currentPage\": 13}, \"mapBounds\": {\"west\": -77.16353057625066, \"east\": -76.40616058113348, \"south\": 40.79172057471558, \"north\": 41.214563845944205}, \"isMapVisible\": true, \"mapZoom\": 11, \"filterState\": {\"sortSelection\": {\"value\": \"globalrelevanceex\"}}, \"isListVisible\": true}\n",
      "https://www.zillow.com/homes/for_sale/14_p/?searchQueryState={\"pagination\": {\"currentPage\": 14}, \"mapBounds\": {\"west\": -77.16353057625066, \"east\": -76.40616058113348, \"south\": 40.79172057471558, \"north\": 41.214563845944205}, \"isMapVisible\": true, \"mapZoom\": 11, \"filterState\": {\"sortSelection\": {\"value\": \"globalrelevanceex\"}}, \"isListVisible\": true}\n",
      "https://www.zillow.com/homes/for_sale/15_p/?searchQueryState={\"pagination\": {\"currentPage\": 15}, \"mapBounds\": {\"west\": -77.16353057625066, \"east\": -76.40616058113348, \"south\": 40.79172057471558, \"north\": 41.214563845944205}, \"isMapVisible\": true, \"mapZoom\": 11, \"filterState\": {\"sortSelection\": {\"value\": \"globalrelevanceex\"}}, \"isListVisible\": true}\n",
      "https://www.zillow.com/homes/for_sale/16_p/?searchQueryState={\"pagination\": {\"currentPage\": 16}, \"mapBounds\": {\"west\": -77.16353057625066, \"east\": -76.40616058113348, \"south\": 40.79172057471558, \"north\": 41.214563845944205}, \"isMapVisible\": true, \"mapZoom\": 11, \"filterState\": {\"sortSelection\": {\"value\": \"globalrelevanceex\"}}, \"isListVisible\": true}\n",
      "https://www.zillow.com/homes/for_sale/17_p/?searchQueryState={\"pagination\": {\"currentPage\": 17}, \"mapBounds\": {\"west\": -77.16353057625066, \"east\": -76.40616058113348, \"south\": 40.79172057471558, \"north\": 41.214563845944205}, \"isMapVisible\": true, \"mapZoom\": 11, \"filterState\": {\"sortSelection\": {\"value\": \"globalrelevanceex\"}}, \"isListVisible\": true}\n",
      "https://www.zillow.com/homes/for_sale/18_p/?searchQueryState={\"pagination\": {\"currentPage\": 18}, \"mapBounds\": {\"west\": -77.16353057625066, \"east\": -76.40616058113348, \"south\": 40.79172057471558, \"north\": 41.214563845944205}, \"isMapVisible\": true, \"mapZoom\": 11, \"filterState\": {\"sortSelection\": {\"value\": \"globalrelevanceex\"}}, \"isListVisible\": true}\n",
      "https://www.zillow.com/homes/for_sale/19_p/?searchQueryState={\"pagination\": {\"currentPage\": 19}, \"mapBounds\": {\"west\": -77.16353057625066, \"east\": -76.40616058113348, \"south\": 40.79172057471558, \"north\": 41.214563845944205}, \"isMapVisible\": true, \"mapZoom\": 11, \"filterState\": {\"sortSelection\": {\"value\": \"globalrelevanceex\"}}, \"isListVisible\": true}\n",
      "https://www.zillow.com/homes/for_sale/20_p/?searchQueryState={\"pagination\": {\"currentPage\": 20}, \"mapBounds\": {\"west\": -77.16353057625066, \"east\": -76.40616058113348, \"south\": 40.79172057471558, \"north\": 41.214563845944205}, \"isMapVisible\": true, \"mapZoom\": 11, \"filterState\": {\"sortSelection\": {\"value\": \"globalrelevanceex\"}}, \"isListVisible\": true}\n"
     ]
    }
   ],
   "source": [
    "attrs_of_interest=['list-card-addr','list-card-type','list-card-price','list-card-details']\n",
    "data={}\n",
    "for page in range(1,21):\n",
    "    time.sleep(1)\n",
    "    #url=f\"https://www.zillow.com/lewisburg-pa-17837/{page}_p\"\n",
    "    \n",
    "    searchQueryState = {\n",
    "    \"pagination\": {\"currentPage\": page},\n",
    "    \"mapBounds\": {\n",
    "        \"west\": -77.16353057625066,\n",
    "        \"east\": -76.40616058113348,\n",
    "        \"south\": 40.79172057471558,\n",
    "        \"north\": 41.214563845944205},\n",
    "    \"isMapVisible\": True, \"mapZoom\": 11,\n",
    "    \"filterState\": {\"sortSelection\": {\"value\": \"globalrelevanceex\"}},\n",
    "    \"isListVisible\": True\n",
    "}\n",
    "    url=f\"https://www.zillow.com/homes/for_sale/{page}_p/?searchQueryState={json.dumps(searchQueryState)}\"\n",
    "    print(url)\n",
    "    resp = requests.get(url,headers={'User-Agent': 'Mozilla/5.0'})\n",
    "    soup = bs4.BeautifulSoup(resp.text)\n",
    "    data_len=len(data)\n",
    "    for i,x in enumerate(soup.find_all(attrs={'class': ['list-card']})):\n",
    "        data[data_len+i]={}\n",
    "        for y in x.find_all(attrs={'class': ['list-card-info']}):\n",
    "            for z in y.find_all(attrs={'class': attrs_of_interest}):\n",
    "                data[data_len+i][x.attrs['class'][0]]=x.text\n",
    "                data[data_len+i][y.attrs['class'][0]]=y.text\n",
    "                data[data_len+i][z.attrs['class'][0]]=z.text"
   ]
  },
  {
   "cell_type": "code",
   "execution_count": 40,
   "metadata": {},
   "outputs": [],
   "source": [
    "result = pd.DataFrame.from_dict(data,orient='index')"
   ]
  },
  {
   "cell_type": "code",
   "execution_count": 41,
   "metadata": {},
   "outputs": [
    {
     "data": {
      "text/plain": [
       "(800, 6)"
      ]
     },
     "execution_count": 41,
     "metadata": {},
     "output_type": "execute_result"
    }
   ],
   "source": [
    "result.shape"
   ]
  },
  {
   "cell_type": "code",
   "execution_count": 42,
   "metadata": {},
   "outputs": [],
   "source": [
    "result.to_csv(\"properties-susquehannavalley.csv\")"
   ]
  },
  {
   "cell_type": "code",
   "execution_count": null,
   "metadata": {},
   "outputs": [],
   "source": []
  }
 ],
 "metadata": {
  "kernelspec": {
   "display_name": "Python 3",
   "language": "python",
   "name": "python3"
  },
  "language_info": {
   "codemirror_mode": {
    "name": "ipython",
    "version": 3
   },
   "file_extension": ".py",
   "mimetype": "text/x-python",
   "name": "python",
   "nbconvert_exporter": "python",
   "pygments_lexer": "ipython3",
   "version": "3.8.0"
  }
 },
 "nbformat": 4,
 "nbformat_minor": 4
}

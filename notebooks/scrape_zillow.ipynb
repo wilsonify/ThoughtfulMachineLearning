{
 "cells": [
  {
   "cell_type": "code",
   "execution_count": 28,
   "metadata": {},
   "outputs": [],
   "source": [
    "from lxml import html\n",
    "import requests\n",
    "import unicodecsv as csv\n",
    "import argparse\n",
    "import json\n",
    "import requests\n",
    "import bs4\n",
    "import pandas as pd\n",
    "import time"
   ]
  },
  {
   "cell_type": "code",
   "execution_count": 32,
   "metadata": {},
   "outputs": [
    {
     "name": "stdout",
     "output_type": "stream",
     "text": [
      "https://www.zillow.com/lewisburg-pa-17837/1_p\n",
      "https://www.zillow.com/lewisburg-pa-17837/2_p\n",
      "https://www.zillow.com/lewisburg-pa-17837/3_p\n",
      "https://www.zillow.com/lewisburg-pa-17837/4_p\n"
     ]
    }
   ],
   "source": [
    "attrs_of_interest=['list-card-addr','list-card-type','list-card-price','list-card-details']\n",
    "data={}\n",
    "for page in range(1,5):\n",
    "    time.sleep(1)\n",
    "    url=f\"https://www.zillow.com/lewisburg-pa-17837/{page}_p\"\n",
    "    print(url)\n",
    "    resp = requests.get(url,headers={'User-Agent': 'Mozilla/5.0'})\n",
    "    soup = bs4.BeautifulSoup(resp.text)\n",
    "    data_len=len(data)\n",
    "    for i,x in enumerate(soup.find_all(attrs={'class': ['list-card']})):\n",
    "        data[data_len+i]={}\n",
    "        for y in x.find_all(attrs={'class': ['list-card-info']}):\n",
    "            for z in y.find_all(attrs={'class': attrs_of_interest}):\n",
    "                data[data_len+i][x.attrs['class'][0]]=x.text\n",
    "                data[data_len+i][y.attrs['class'][0]]=y.text\n",
    "                data[data_len+i][z.attrs['class'][0]]=z.text"
   ]
  },
  {
   "cell_type": "code",
   "execution_count": 33,
   "metadata": {},
   "outputs": [],
   "source": [
    "result = pd.DataFrame.from_dict(data,orient='index')"
   ]
  },
  {
   "cell_type": "code",
   "execution_count": 34,
   "metadata": {},
   "outputs": [],
   "source": [
    "result.to_csv(\"properties-17837.csv\")"
   ]
  },
  {
   "cell_type": "code",
   "execution_count": null,
   "metadata": {},
   "outputs": [],
   "source": []
  }
 ],
 "metadata": {
  "kernelspec": {
   "display_name": "Python 3",
   "language": "python",
   "name": "python3"
  },
  "language_info": {
   "codemirror_mode": {
    "name": "ipython",
    "version": 3
   },
   "file_extension": ".py",
   "mimetype": "text/x-python",
   "name": "python",
   "nbconvert_exporter": "python",
   "pygments_lexer": "ipython3",
   "version": "3.8.0"
  }
 },
 "nbformat": 4,
 "nbformat_minor": 4
}

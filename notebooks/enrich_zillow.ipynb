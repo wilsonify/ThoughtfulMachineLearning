{
 "cells": [
  {
   "cell_type": "code",
   "execution_count": 58,
   "metadata": {},
   "outputs": [],
   "source": [
    "import pandas as pd\n",
    "import numpy as np\n",
    "import geopandas\n",
    "import geopy\n",
    "from geopy.geocoders import Nominatim\n",
    "from geopy import distance\n",
    "from geopy.extra.rate_limiter import RateLimiter\n",
    "from matplotlib import pyplot as plt\n",
    "import seaborn as sns"
   ]
  },
  {
   "cell_type": "code",
   "execution_count": 24,
   "metadata": {},
   "outputs": [],
   "source": [
    "properties_df = pd.read_csv(\"properties-17837.csv\",index_col=0)"
   ]
  },
  {
   "cell_type": "code",
   "execution_count": 25,
   "metadata": {},
   "outputs": [],
   "source": [
    "properties_df = properties_df[properties_df['list-card-type']!=\"Lot / Land for sale\"]"
   ]
  },
  {
   "cell_type": "code",
   "execution_count": 28,
   "metadata": {},
   "outputs": [],
   "source": [
    "properties_df['list-card-price'] = properties_df['list-card-price'].str.replace(\"\\$|,|\\+\",'').astype(np.int64)"
   ]
  },
  {
   "cell_type": "code",
   "execution_count": 29,
   "metadata": {},
   "outputs": [],
   "source": [
    "properties_df['beds'] = properties_df['list-card-details'].str.extract(\"(.+) bds\")\n",
    "properties_df['beds'] = properties_df['beds'].astype(np.int64)\n",
    "properties_df['baths'] = properties_df['list-card-details'].str.extract(\"bds(.+) ba\")\n",
    "properties_df['baths'] = properties_df['baths'].astype(np.int64)\n",
    "properties_df['floorspace'] = properties_df['list-card-details'].str.extract(\"ba(.+) sqft\")\n",
    "properties_df['floorspace'] = properties_df['floorspace'].str.replace(',','').astype(np.int64)\n",
    "properties_df['street'] = properties_df['list-card-addr'].str.extract(\"[0-9]+ (.+) \")"
   ]
  },
  {
   "cell_type": "code",
   "execution_count": 30,
   "metadata": {},
   "outputs": [
    {
     "data": {
      "text/html": [
       "<div>\n",
       "<style scoped>\n",
       "    .dataframe tbody tr th:only-of-type {\n",
       "        vertical-align: middle;\n",
       "    }\n",
       "\n",
       "    .dataframe tbody tr th {\n",
       "        vertical-align: top;\n",
       "    }\n",
       "\n",
       "    .dataframe thead th {\n",
       "        text-align: right;\n",
       "    }\n",
       "</style>\n",
       "<table border=\"1\" class=\"dataframe\">\n",
       "  <thead>\n",
       "    <tr style=\"text-align: right;\">\n",
       "      <th></th>\n",
       "      <th>list-card</th>\n",
       "      <th>list-card-info</th>\n",
       "      <th>list-card-addr</th>\n",
       "      <th>list-card-type</th>\n",
       "      <th>list-card-price</th>\n",
       "      <th>list-card-details</th>\n",
       "      <th>beds</th>\n",
       "      <th>baths</th>\n",
       "      <th>floorspace</th>\n",
       "      <th>street</th>\n",
       "    </tr>\n",
       "  </thead>\n",
       "  <tbody>\n",
       "    <tr>\n",
       "      <th>0</th>\n",
       "      <td>614 Maclay Ave, Lewisburg, PA 17837House for s...</td>\n",
       "      <td>614 Maclay Ave, Lewisburg, PA 17837House for s...</td>\n",
       "      <td>614 Maclay Ave, Lewisburg, PA 17837</td>\n",
       "      <td>House for sale</td>\n",
       "      <td>189900</td>\n",
       "      <td>3 bds2 ba1,422 sqft</td>\n",
       "      <td>3</td>\n",
       "      <td>2</td>\n",
       "      <td>1422</td>\n",
       "      <td>Maclay Ave, Lewisburg, PA</td>\n",
       "    </tr>\n",
       "    <tr>\n",
       "      <th>1</th>\n",
       "      <td>26 Saint Mary St, Lewisburg, PA 17837House for...</td>\n",
       "      <td>26 Saint Mary St, Lewisburg, PA 17837House for...</td>\n",
       "      <td>26 Saint Mary St, Lewisburg, PA 17837</td>\n",
       "      <td>House for sale</td>\n",
       "      <td>100000</td>\n",
       "      <td>3 bds2 ba1,156 sqft</td>\n",
       "      <td>3</td>\n",
       "      <td>2</td>\n",
       "      <td>1156</td>\n",
       "      <td>Saint Mary St, Lewisburg, PA</td>\n",
       "    </tr>\n",
       "    <tr>\n",
       "      <th>2</th>\n",
       "      <td>1319 W Market St, Lewisburg, PA 17837House for...</td>\n",
       "      <td>1319 W Market St, Lewisburg, PA 17837House for...</td>\n",
       "      <td>1319 W Market St, Lewisburg, PA 17837</td>\n",
       "      <td>House for sale</td>\n",
       "      <td>105000</td>\n",
       "      <td>3 bds2 ba1,361 sqft</td>\n",
       "      <td>3</td>\n",
       "      <td>2</td>\n",
       "      <td>1361</td>\n",
       "      <td>W Market St, Lewisburg, PA</td>\n",
       "    </tr>\n",
       "    <tr>\n",
       "      <th>3</th>\n",
       "      <td>110 Lowe St, Lewisburg, PA 17837House for sale...</td>\n",
       "      <td>110 Lowe St, Lewisburg, PA 17837House for sale...</td>\n",
       "      <td>110 Lowe St, Lewisburg, PA 17837</td>\n",
       "      <td>House for sale</td>\n",
       "      <td>349900</td>\n",
       "      <td>4 bds3 ba2,592 sqft</td>\n",
       "      <td>4</td>\n",
       "      <td>3</td>\n",
       "      <td>2592</td>\n",
       "      <td>Lowe St, Lewisburg, PA</td>\n",
       "    </tr>\n",
       "    <tr>\n",
       "      <th>4</th>\n",
       "      <td>560 Hardscrabble Ln, Lewisburg, PA 17837House ...</td>\n",
       "      <td>560 Hardscrabble Ln, Lewisburg, PA 17837House ...</td>\n",
       "      <td>560 Hardscrabble Ln, Lewisburg, PA 17837</td>\n",
       "      <td>House for sale</td>\n",
       "      <td>1999999</td>\n",
       "      <td>5 bds6 ba8,170 sqft</td>\n",
       "      <td>5</td>\n",
       "      <td>6</td>\n",
       "      <td>8170</td>\n",
       "      <td>Hardscrabble Ln, Lewisburg, PA</td>\n",
       "    </tr>\n",
       "  </tbody>\n",
       "</table>\n",
       "</div>"
      ],
      "text/plain": [
       "                                           list-card  \\\n",
       "0  614 Maclay Ave, Lewisburg, PA 17837House for s...   \n",
       "1  26 Saint Mary St, Lewisburg, PA 17837House for...   \n",
       "2  1319 W Market St, Lewisburg, PA 17837House for...   \n",
       "3  110 Lowe St, Lewisburg, PA 17837House for sale...   \n",
       "4  560 Hardscrabble Ln, Lewisburg, PA 17837House ...   \n",
       "\n",
       "                                      list-card-info  \\\n",
       "0  614 Maclay Ave, Lewisburg, PA 17837House for s...   \n",
       "1  26 Saint Mary St, Lewisburg, PA 17837House for...   \n",
       "2  1319 W Market St, Lewisburg, PA 17837House for...   \n",
       "3  110 Lowe St, Lewisburg, PA 17837House for sale...   \n",
       "4  560 Hardscrabble Ln, Lewisburg, PA 17837House ...   \n",
       "\n",
       "                             list-card-addr  list-card-type  list-card-price  \\\n",
       "0       614 Maclay Ave, Lewisburg, PA 17837  House for sale           189900   \n",
       "1     26 Saint Mary St, Lewisburg, PA 17837  House for sale           100000   \n",
       "2     1319 W Market St, Lewisburg, PA 17837  House for sale           105000   \n",
       "3          110 Lowe St, Lewisburg, PA 17837  House for sale           349900   \n",
       "4  560 Hardscrabble Ln, Lewisburg, PA 17837  House for sale          1999999   \n",
       "\n",
       "     list-card-details  beds  baths  floorspace  \\\n",
       "0  3 bds2 ba1,422 sqft     3      2        1422   \n",
       "1  3 bds2 ba1,156 sqft     3      2        1156   \n",
       "2  3 bds2 ba1,361 sqft     3      2        1361   \n",
       "3  4 bds3 ba2,592 sqft     4      3        2592   \n",
       "4  5 bds6 ba8,170 sqft     5      6        8170   \n",
       "\n",
       "                           street  \n",
       "0       Maclay Ave, Lewisburg, PA  \n",
       "1    Saint Mary St, Lewisburg, PA  \n",
       "2      W Market St, Lewisburg, PA  \n",
       "3          Lowe St, Lewisburg, PA  \n",
       "4  Hardscrabble Ln, Lewisburg, PA  "
      ]
     },
     "execution_count": 30,
     "metadata": {},
     "output_type": "execute_result"
    }
   ],
   "source": [
    "properties_df.head()"
   ]
  },
  {
   "cell_type": "code",
   "execution_count": 47,
   "metadata": {},
   "outputs": [],
   "source": [
    "locator_Nominatim = geopy.Nominatim(user_agent=\"myGeocoder\")\n",
    "olin_science=locator_Nominatim.geocode(\"Olin Science, Vaughan Lit Drive, College Park, Union County, PA, 17837\")"
   ]
  },
  {
   "cell_type": "code",
   "execution_count": 56,
   "metadata": {},
   "outputs": [
    {
     "data": {
      "text/plain": [
       "(40.955516450000005, -76.88276067249578)"
      ]
     },
     "execution_count": 56,
     "metadata": {},
     "output_type": "execute_result"
    }
   ],
   "source": [
    "buckenell_math_lat_long=tuple(olin_science.point)[:2]\n",
    "buckenell_math_lat_long"
   ]
  },
  {
   "cell_type": "code",
   "execution_count": 36,
   "metadata": {},
   "outputs": [
    {
     "data": {
      "text/plain": [
       "Location(614 Maclay Ave, Lewisburg, Pennsylvania, 17837, (40.96913573910785, -76.89508247833125, 0.0))"
      ]
     },
     "execution_count": 36,
     "metadata": {},
     "output_type": "execute_result"
    }
   ],
   "source": [
    "locator_ArcGIS = geopy.ArcGIS(user_agent=\"myGeocoder\")\n",
    "locator_ArcGIS.geocode(\"614 Maclay Ave, Lewisburg, PA 17837\")"
   ]
  },
  {
   "cell_type": "code",
   "execution_count": 37,
   "metadata": {},
   "outputs": [],
   "source": [
    "geocode_Nominatim_rate_limited = RateLimiter(locator_Nominatim.geocode, min_delay_seconds=1)\n",
    "geocode_ArcGIS_rate_limited = RateLimiter(locator_ArcGIS.geocode, min_delay_seconds=1)"
   ]
  },
  {
   "cell_type": "code",
   "execution_count": 39,
   "metadata": {},
   "outputs": [],
   "source": [
    "properties_df['location_ArcGIS'] = properties_df['list-card-addr'].apply(geocode_ArcGIS_rate_limited)"
   ]
  },
  {
   "cell_type": "code",
   "execution_count": 87,
   "metadata": {},
   "outputs": [],
   "source": [
    "properties_df['latitude']=properties_df['location_ArcGIS'].apply(lambda loc: loc.latitude)\n",
    "properties_df['longitude']=properties_df['location_ArcGIS'].apply(lambda loc: loc.longitude)"
   ]
  },
  {
   "cell_type": "code",
   "execution_count": 88,
   "metadata": {},
   "outputs": [
    {
     "data": {
      "text/plain": [
       "<matplotlib.axes._subplots.AxesSubplot object at 0x7f403fb39880>"
      ]
     },
     "execution_count": 88,
     "metadata": {},
     "output_type": "execute_result"
    },
    {
     "data": {
      "image/png": "[encoded data removed]",
      "text/plain": [
       "<Figure size 432x288 with 1 Axes>"
      ]
     },
     "metadata": {
      "needs_background": "light"
     },
     "output_type": "display_data"
    }
   ],
   "source": [
    "properties_df.plot.scatter(x='longitude',y='latitude')"
   ]
  },
  {
   "cell_type": "code",
   "execution_count": 89,
   "metadata": {},
   "outputs": [],
   "source": [
    "def distance_to_math(location):\n",
    "    return distance.distance(location, buckenell_math_lat_long).miles"
   ]
  },
  {
   "cell_type": "code",
   "execution_count": 90,
   "metadata": {},
   "outputs": [],
   "source": [
    "properties_df['distance_to_math_dept'] = properties_df['point'].apply(distance_to_math)"
   ]
  },
  {
   "cell_type": "code",
   "execution_count": 91,
   "metadata": {},
   "outputs": [
    {
     "data": {
      "text/plain": [
       "<matplotlib.axes._subplots.AxesSubplot object at 0x7f403fb400a0>"
      ]
     },
     "execution_count": 91,
     "metadata": {},
     "output_type": "execute_result"
    },
    {
     "data": {
      "image/png": "[encoded data removed]",
      "text/plain": [
       "<Figure size 432x288 with 1 Axes>"
      ]
     },
     "metadata": {
      "needs_background": "light"
     },
     "output_type": "display_data"
    }
   ],
   "source": [
    "sns.scatterplot(data=properties_df,x='longitude',y='latitude',size='distance_to_math_dept')"
   ]
  },
  {
   "cell_type": "code",
   "execution_count": 92,
   "metadata": {},
   "outputs": [],
   "source": [
    "properties_df.to_csv(\"properties-17837-enriched.csv\")"
   ]
  },
  {
   "cell_type": "code",
   "execution_count": null,
   "metadata": {},
   "outputs": [],
   "source": []
  }
 ],
 "metadata": {
  "kernelspec": {
   "display_name": "Python 3",
   "language": "python",
   "name": "python3"
  },
  "language_info": {
   "codemirror_mode": {
    "name": "ipython",
    "version": 3
   },
   "file_extension": ".py",
   "mimetype": "text/x-python",
   "name": "python",
   "nbconvert_exporter": "python",
   "pygments_lexer": "ipython3",
   "version": "3.8.0"
  }
 },
 "nbformat": 4,
 "nbformat_minor": 4
}

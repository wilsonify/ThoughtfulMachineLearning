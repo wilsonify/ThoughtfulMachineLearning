{
 "cells": [
  {
   "cell_type": "code",
   "execution_count": 2,
   "metadata": {},
   "outputs": [],
   "source": [
    "import pandas as pd\n",
    "import numpy as np\n",
    "import geopandas\n",
    "import geopy\n",
    "from geopy.geocoders import Nominatim\n",
    "from geopy import distance\n",
    "from geopy.extra.rate_limiter import RateLimiter\n",
    "from matplotlib import pyplot as plt\n",
    "import seaborn as sns"
   ]
  },
  {
   "cell_type": "code",
   "execution_count": 4,
   "metadata": {},
   "outputs": [],
   "source": [
    "properties_df = pd.read_csv(\"properties-susquehannavalley2020MAR29.csv\",index_col=0)"
   ]
  },
  {
   "cell_type": "code",
   "execution_count": 5,
   "metadata": {},
   "outputs": [],
   "source": [
    "properties_df = properties_df[properties_df['list-card-type']!=\"Lot / Land for sale\"]\n",
    "properties_df = properties_df[properties_df['list-card-type']!=\"New construction\"]\n",
    "properties_df = properties_df[properties_df['list-card-type']!=\"Apartment for sale\"]"
   ]
  },
  {
   "cell_type": "code",
   "execution_count": 6,
   "metadata": {},
   "outputs": [],
   "source": [
    "properties_df['list-card-price'] = properties_df['list-card-price'].str.replace(\"\\$|,|\\+|-|Est| \",'')"
   ]
  },
  {
   "cell_type": "code",
   "execution_count": 7,
   "metadata": {},
   "outputs": [],
   "source": [
    "properties_df['list-card-price'] = pd.to_numeric(properties_df['list-card-price'])"
   ]
  },
  {
   "cell_type": "code",
   "execution_count": 8,
   "metadata": {},
   "outputs": [],
   "source": [
    "properties_df['beds'] = properties_df['list-card-details'].str.extract(\"(.+) bds\")\n",
    "properties_df['beds'] = properties_df['beds'].str.replace('--','')\n",
    "properties_df['beds'] = pd.to_numeric(properties_df['beds'])"
   ]
  },
  {
   "cell_type": "code",
   "execution_count": 9,
   "metadata": {},
   "outputs": [],
   "source": [
    "properties_df['baths'] = properties_df['list-card-details'].str.extract(\"bds(.+) ba\")\n",
    "properties_df['baths'] = properties_df['baths'].str.replace('--','')\n",
    "properties_df['baths'] = pd.to_numeric(properties_df['baths'])"
   ]
  },
  {
   "cell_type": "code",
   "execution_count": 10,
   "metadata": {},
   "outputs": [],
   "source": [
    "properties_df['floorspace'] = properties_df['list-card-details'].str.extract(\"ba(.+) sqft\")\n",
    "properties_df['floorspace'] = properties_df['floorspace'].str.replace(',','')\n",
    "properties_df['floorspace'] = properties_df['floorspace'].str.replace('--','')\n",
    "properties_df['floorspace'] = pd.to_numeric(properties_df['floorspace'])"
   ]
  },
  {
   "cell_type": "code",
   "execution_count": 11,
   "metadata": {},
   "outputs": [],
   "source": [
    "properties_df['street'] = properties_df['list-card-addr'].str.extract(\"[0-9]+ (.+) \")"
   ]
  },
  {
   "cell_type": "code",
   "execution_count": 12,
   "metadata": {},
   "outputs": [],
   "source": [
    "street_df = properties_df['street'].str.split(',',n=2,expand=True)\n",
    "street_df.columns=pd.Index(['street_name','city','state'])\n",
    "properties_df = properties_df.join(street_df)"
   ]
  },
  {
   "cell_type": "code",
   "execution_count": 13,
   "metadata": {},
   "outputs": [],
   "source": [
    "locator_Nominatim = geopy.Nominatim(user_agent=\"myGeocoder\")\n",
    "olin_science=locator_Nominatim.geocode(\"Olin Science, Vaughan Lit Drive, College Park, Union County, PA, 17837\")"
   ]
  },
  {
   "cell_type": "code",
   "execution_count": 14,
   "metadata": {},
   "outputs": [
    {
     "data": {
      "text/plain": [
       "(40.955516450000005, -76.88276067249578)"
      ]
     },
     "execution_count": 14,
     "metadata": {},
     "output_type": "execute_result"
    }
   ],
   "source": [
    "buckenell_math_lat_long=tuple(olin_science.point)[:2]\n",
    "buckenell_math_lat_long"
   ]
  },
  {
   "cell_type": "code",
   "execution_count": 15,
   "metadata": {},
   "outputs": [
    {
     "data": {
      "text/plain": [
       "Location(614 Maclay Ave, Lewisburg, Pennsylvania, 17837, (40.96913573910785, -76.89508247833125, 0.0))"
      ]
     },
     "execution_count": 15,
     "metadata": {},
     "output_type": "execute_result"
    }
   ],
   "source": [
    "locator_ArcGIS = geopy.ArcGIS(user_agent=\"myGeocoder\")\n",
    "locator_ArcGIS.geocode(\"614 Maclay Ave, Lewisburg, PA 17837\")"
   ]
  },
  {
   "cell_type": "code",
   "execution_count": 16,
   "metadata": {},
   "outputs": [],
   "source": [
    "geocode_Nominatim_rate_limited = RateLimiter(locator_Nominatim.geocode, min_delay_seconds=1)\n",
    "geocode_ArcGIS_rate_limited = RateLimiter(locator_ArcGIS.geocode, min_delay_seconds=1)"
   ]
  },
  {
   "cell_type": "code",
   "execution_count": null,
   "metadata": {},
   "outputs": [],
   "source": [
    "properties_df['location_ArcGIS'] = properties_df['list-card-addr'].apply(geocode_ArcGIS_rate_limited)"
   ]
  },
  {
   "cell_type": "code",
   "execution_count": null,
   "metadata": {},
   "outputs": [],
   "source": [
    "properties_df['latitude']=properties_df['location_ArcGIS'].apply(lambda loc: loc.latitude)\n",
    "properties_df['longitude']=properties_df['location_ArcGIS'].apply(lambda loc: loc.longitude)\n",
    "properties_df['point']=properties_df['location_ArcGIS'].apply(lambda loc: (loc.latitude,loc.longitude))"
   ]
  },
  {
   "cell_type": "code",
   "execution_count": null,
   "metadata": {},
   "outputs": [],
   "source": [
    "properties_df.plot.scatter(x='longitude',y='latitude')"
   ]
  },
  {
   "cell_type": "code",
   "execution_count": null,
   "metadata": {},
   "outputs": [],
   "source": [
    "def distance_to_math(location):\n",
    "    return distance.distance(location, buckenell_math_lat_long).miles"
   ]
  },
  {
   "cell_type": "code",
   "execution_count": null,
   "metadata": {},
   "outputs": [],
   "source": [
    "properties_df['distance_to_math_dept'] = properties_df['point'].apply(distance_to_math)"
   ]
  },
  {
   "cell_type": "code",
   "execution_count": null,
   "metadata": {},
   "outputs": [],
   "source": [
    "sns.scatterplot(data=properties_df,x='longitude',y='latitude',size='distance_to_math_dept')"
   ]
  },
  {
   "cell_type": "code",
   "execution_count": null,
   "metadata": {},
   "outputs": [],
   "source": [
    "properties_df.to_csv(\"properties-susquahannavalley-enriched2020MAR29.csv\")"
   ]
  },
  {
   "cell_type": "code",
   "execution_count": null,
   "metadata": {},
   "outputs": [],
   "source": []
  }
 ],
 "metadata": {
  "kernelspec": {
   "display_name": "Python 3",
   "language": "python",
   "name": "python3"
  },
  "language_info": {
   "codemirror_mode": {
    "name": "ipython",
    "version": 3
   },
   "file_extension": ".py",
   "mimetype": "text/x-python",
   "name": "python",
   "nbconvert_exporter": "python",
   "pygments_lexer": "ipython3",
   "version": "3.8.0"
  }
 },
 "nbformat": 4,
 "nbformat_minor": 4
}
